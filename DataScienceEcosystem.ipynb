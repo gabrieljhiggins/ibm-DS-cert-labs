{
 "cells": [
  {
   "cell_type": "markdown",
   "id": "8d85891f-1d0b-4f61-9583-a0afaf6b9d30",
   "metadata": {},
   "source": [
    "# Data Science Tools and Ecosystem"
   ]
  },
  {
   "cell_type": "markdown",
   "id": "d793a632-e492-4840-86d8-3ddd5313b056",
   "metadata": {},
   "source": [
    "In this notebook, Data Science Tools and Ecosystem are summarized."
   ]
  },
  {
   "cell_type": "markdown",
   "id": "0323d1cc-8bc8-4528-98a9-5490cdd7198c",
   "metadata": {},
   "source": [
    "Some of the popular languages that Data Scientists use are:\n",
    "1. Python\n",
    "2. R\n",
    "3. SQL"
   ]
  },
  {
   "cell_type": "markdown",
   "id": "8eb63318-e1f6-48f6-91fa-0639316dd47f",
   "metadata": {},
   "source": [
    "Some of the commonly used libraries used by Data Scientists include:\n",
    "1. NumPy\n",
    "2. Pandas\n",
    "3. Scikit-learn"
   ]
  },
  {
   "cell_type": "markdown",
   "id": "426cdf1c-486d-48b3-b5c8-440172619706",
   "metadata": {},
   "source": [
    "| Data Science Tools |\n",
    "|--------------------|\n",
    "| Jupyter Notebook   |\n",
    "| RStudio            |\n",
    "| VS Code with Python|"
   ]
  },
  {
   "cell_type": "markdown",
   "id": "627623d0-1c2b-4f9b-bddd-587876b5b634",
   "metadata": {},
   "source": [
    "### Below are a few examples of evaluating arithmetic expressions in Python."
   ]
  },
  {
   "cell_type": "code",
   "execution_count": 1,
   "id": "2355afff-02cb-45ae-90a4-f034ed704919",
   "metadata": {},
   "outputs": [
    {
     "name": "stdout",
     "output_type": "stream",
     "text": [
      "17\n"
     ]
    }
   ],
   "source": [
    "# This is a simple arithmetic expression to multiply then add integers\n",
    "print((3*4)+5)  # Should output 17"
   ]
  },
  {
   "cell_type": "code",
   "execution_count": 2,
   "id": "8eb83c40-d113-4af5-a155-473ebda0f3ec",
   "metadata": {},
   "outputs": [
    {
     "name": "stdout",
     "output_type": "stream",
     "text": [
      "3.3333333333333335\n"
     ]
    }
   ],
   "source": [
    "# This will convert 200 minutes to hours by dividing by 60\n",
    "minutes = 200\n",
    "hours = minutes / 60\n",
    "print(hours)  # Should output 3.3333333333333335"
   ]
  },
  {
   "cell_type": "markdown",
   "id": "913e3951-dcd8-4dcc-930d-b698aa19f9fe",
   "metadata": {},
   "source": [
    "**Objectives:**\n",
    "- List popular languages for Data Science\n",
    "- Introduce commonly used libraries\n",
    "- Demonstrate arithmetic operations in Python\n",
    "- Provide examples of converting time units"
   ]
  },
  {
   "cell_type": "markdown",
   "id": "3cf181ed-7d6f-4ee9-9c72-a5aa4806e932",
   "metadata": {},
   "source": [
    "## Gabriel J. Higgins"
   ]
  },
  {
   "cell_type": "code",
   "execution_count": null,
   "id": "6312b4d9-7309-412d-8103-ee8776461a13",
   "metadata": {},
   "outputs": [],
   "source": []
  }
 ],
 "metadata": {
  "kernelspec": {
   "display_name": "Python 3 (ipykernel)",
   "language": "python",
   "name": "python3"
  },
  "language_info": {
   "codemirror_mode": {
    "name": "ipython",
    "version": 3
   },
   "file_extension": ".py",
   "mimetype": "text/x-python",
   "name": "python",
   "nbconvert_exporter": "python",
   "pygments_lexer": "ipython3",
   "version": "3.12.8"
  }
 },
 "nbformat": 4,
 "nbformat_minor": 5
}
